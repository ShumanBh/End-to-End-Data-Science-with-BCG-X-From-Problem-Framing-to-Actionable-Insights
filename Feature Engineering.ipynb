{
 "cells": [
  {
   "cell_type": "code",
   "execution_count": null,
   "id": "5e5d948f-1a86-49a6-a259-de616ae4a87d",
   "metadata": {},
   "outputs": [],
   "source": [
    "import pandas as pd"
   ]
  },
  {
   "cell_type": "code",
   "execution_count": null,
   "id": "aaa57c17-9b57-4370-8de5-48253e3a05c2",
   "metadata": {},
   "outputs": [],
   "source": [
    "df = pd.read_csv('clean_data_after_eda.csv')"
   ]
  },
  {
   "cell_type": "code",
   "execution_count": null,
   "id": "f09592e4-1eca-4027-bf35-61d590fe7333",
   "metadata": {},
   "outputs": [
    {
     "data": {
      "text/plain": [
       "['id',\n",
       " 'channel_sales',\n",
       " 'cons_12m',\n",
       " 'cons_gas_12m',\n",
       " 'cons_last_month',\n",
       " 'date_activ',\n",
       " 'date_end',\n",
       " 'date_modif_prod',\n",
       " 'date_renewal',\n",
       " 'forecast_cons_12m',\n",
       " 'forecast_cons_year',\n",
       " 'forecast_discount_energy',\n",
       " 'forecast_meter_rent_12m',\n",
       " 'forecast_price_energy_off_peak',\n",
       " 'forecast_price_energy_peak',\n",
       " 'forecast_price_pow_off_peak',\n",
       " 'has_gas',\n",
       " 'imp_cons',\n",
       " 'margin_gross_pow_ele',\n",
       " 'margin_net_pow_ele',\n",
       " 'nb_prod_act',\n",
       " 'net_margin',\n",
       " 'num_years_antig',\n",
       " 'origin_up',\n",
       " 'pow_max',\n",
       " 'var_year_price_off_peak_var',\n",
       " 'var_year_price_peak_var',\n",
       " 'var_year_price_mid_peak_var',\n",
       " 'var_year_price_off_peak_fix',\n",
       " 'var_year_price_peak_fix',\n",
       " 'var_year_price_mid_peak_fix',\n",
       " 'var_year_price_off_peak',\n",
       " 'var_year_price_peak',\n",
       " 'var_year_price_mid_peak',\n",
       " 'var_6m_price_off_peak_var',\n",
       " 'var_6m_price_peak_var',\n",
       " 'var_6m_price_mid_peak_var',\n",
       " 'var_6m_price_off_peak_fix',\n",
       " 'var_6m_price_peak_fix',\n",
       " 'var_6m_price_mid_peak_fix',\n",
       " 'var_6m_price_off_peak',\n",
       " 'var_6m_price_peak',\n",
       " 'var_6m_price_mid_peak',\n",
       " 'churn']"
      ]
     },
     "execution_count": 34,
     "metadata": {},
     "output_type": "execute_result"
    }
   ],
   "source": [
    "df.columns.tolist()"
   ]
  },
  {
   "cell_type": "code",
   "execution_count": null,
   "id": "6a69d817-524b-4f3a-97f0-67e84933b230",
   "metadata": {},
   "outputs": [
    {
     "data": {
      "text/plain": [
       "(14606, 44)"
      ]
     },
     "execution_count": 35,
     "metadata": {},
     "output_type": "execute_result"
    }
   ],
   "source": [
    "df.shape"
   ]
  },
  {
   "cell_type": "code",
   "execution_count": null,
   "id": "4d8fe310-1fe6-4759-9eed-98539b29403a",
   "metadata": {},
   "outputs": [],
   "source": [
    "# REMOVE UNNECESSARY COLUMNS\n",
    "for col in df.columns:\n",
    "    if df[col].nunique() == 1:\n",
    "        df.drop(col, axis=1, inplace=True)"
   ]
  },
  {
   "cell_type": "code",
   "execution_count": null,
   "id": "7ac618c1-2d88-437f-a382-41974d42c1ae",
   "metadata": {},
   "outputs": [],
   "source": [
    "# Convert date columns to datetime\n",
    "df['date_activ'] = pd.to_datetime(df['date_activ'])\n",
    "df['date_end'] = pd.to_datetime(df['date_end'])"
   ]
  },
  {
   "cell_type": "code",
   "execution_count": null,
   "id": "f012ccd5-2997-436a-af13-a1449ed7a2b3",
   "metadata": {},
   "outputs": [],
   "source": [
    "# Create new date features\n",
    "df['activ_month'] = df['date_activ'].dt.month\n",
    "df['active_weekday'] = df['date_activ'].dt.weekday\n",
    "df['days_since_active'] = (pd.Timestamp.today() - df['date_activ']).dt.days\n",
    "df['days_since_last_login'] = (pd.Timestamp.today() - df['date_end']).dt.days\n",
    "df['account_duration'] = (df['date_end'] - df['date_activ']).dt.days"
   ]
  },
  {
   "cell_type": "code",
   "execution_count": null,
   "id": "7c86e700-d820-49bc-a0dd-3e7f0e2b6d64",
   "metadata": {},
   "outputs": [],
   "source": [
    "# Average spend per session\n",
    "if 'total_sessions' in df.columns and 'total_spend' in df.columns:\n",
    "    df['avg_spend_per_session'] = df['total_spend'] / (df['total_sessions'] + 1)"
   ]
  },
  {
   "cell_type": "code",
   "execution_count": null,
   "id": "46dfb159-93eb-487b-9b07-c12fc239f889",
   "metadata": {},
   "outputs": [],
   "source": [
    "# Spend to purchase ratio\n",
    "if 'total_spend' in df.columns and 'total_purchases' in df.columns:\n",
    "    df['spend_per_purchase'] = df['total_spend'] / (df['total_purchases'] + 1)"
   ]
  },
  {
   "cell_type": "code",
   "execution_count": null,
   "id": "6b42b113-0d23-45fa-8ac1-be9269f4987d",
   "metadata": {},
   "outputs": [],
   "source": [
    "# Purchase frequency\n",
    "if 'total_purchases' in df.columns and 'account_duration' in df.columns:\n",
    "    df['purchase_frequency'] = df['total_purchases'] / (df['account_duration'] + 1)"
   ]
  },
  {
   "cell_type": "code",
   "execution_count": null,
   "id": "19515651-18ab-489e-bc64-c0759d0e8183",
   "metadata": {},
   "outputs": [
    {
     "data": {
      "text/plain": [
       "(14606, 49)"
      ]
     },
     "execution_count": 42,
     "metadata": {},
     "output_type": "execute_result"
    }
   ],
   "source": [
    "# New shape \n",
    "df.shape"
   ]
  },
  {
   "cell_type": "code",
   "execution_count": null,
   "id": "9490ca6c-909d-4ba9-a364-37d5d27cf132",
   "metadata": {},
   "outputs": [
    {
     "data": {
      "text/html": [
       "<div>\n",
       "<style scoped>\n",
       "    .dataframe tbody tr th:only-of-type {\n",
       "        vertical-align: middle;\n",
       "    }\n",
       "\n",
       "    .dataframe tbody tr th {\n",
       "        vertical-align: top;\n",
       "    }\n",
       "\n",
       "    .dataframe thead th {\n",
       "        text-align: right;\n",
       "    }\n",
       "</style>\n",
       "<table border=\"1\" class=\"dataframe\">\n",
       "  <thead>\n",
       "    <tr style=\"text-align: right;\">\n",
       "      <th></th>\n",
       "      <th>id</th>\n",
       "      <th>channel_sales</th>\n",
       "      <th>cons_12m</th>\n",
       "      <th>cons_gas_12m</th>\n",
       "      <th>cons_last_month</th>\n",
       "      <th>date_activ</th>\n",
       "      <th>date_end</th>\n",
       "      <th>date_modif_prod</th>\n",
       "      <th>date_renewal</th>\n",
       "      <th>forecast_cons_12m</th>\n",
       "      <th>...</th>\n",
       "      <th>var_6m_price_mid_peak_fix</th>\n",
       "      <th>var_6m_price_off_peak</th>\n",
       "      <th>var_6m_price_peak</th>\n",
       "      <th>var_6m_price_mid_peak</th>\n",
       "      <th>churn</th>\n",
       "      <th>activ_month</th>\n",
       "      <th>active_weekday</th>\n",
       "      <th>days_since_active</th>\n",
       "      <th>days_since_last_login</th>\n",
       "      <th>account_duration</th>\n",
       "    </tr>\n",
       "  </thead>\n",
       "  <tbody>\n",
       "    <tr>\n",
       "      <th>0</th>\n",
       "      <td>24011ae4ebbe3035111d65fa7c15bc57</td>\n",
       "      <td>foosdfpfkusacimwkcsosbicdxkicaua</td>\n",
       "      <td>0</td>\n",
       "      <td>54946</td>\n",
       "      <td>0</td>\n",
       "      <td>2013-06-15</td>\n",
       "      <td>2016-06-15</td>\n",
       "      <td>2015-11-01</td>\n",
       "      <td>2015-06-23</td>\n",
       "      <td>0.00</td>\n",
       "      <td>...</td>\n",
       "      <td>44.235794</td>\n",
       "      <td>2.086425</td>\n",
       "      <td>9.953056e+01</td>\n",
       "      <td>4.423670e+01</td>\n",
       "      <td>1</td>\n",
       "      <td>6</td>\n",
       "      <td>5</td>\n",
       "      <td>4330</td>\n",
       "      <td>3234</td>\n",
       "      <td>1096</td>\n",
       "    </tr>\n",
       "    <tr>\n",
       "      <th>1</th>\n",
       "      <td>d29c2c54acc38ff3c0614d0a653813dd</td>\n",
       "      <td>MISSING</td>\n",
       "      <td>4660</td>\n",
       "      <td>0</td>\n",
       "      <td>0</td>\n",
       "      <td>2009-08-21</td>\n",
       "      <td>2016-08-30</td>\n",
       "      <td>2009-08-21</td>\n",
       "      <td>2015-08-31</td>\n",
       "      <td>189.95</td>\n",
       "      <td>...</td>\n",
       "      <td>0.000000</td>\n",
       "      <td>0.009485</td>\n",
       "      <td>1.217891e-03</td>\n",
       "      <td>0.000000e+00</td>\n",
       "      <td>0</td>\n",
       "      <td>8</td>\n",
       "      <td>4</td>\n",
       "      <td>5724</td>\n",
       "      <td>3158</td>\n",
       "      <td>2566</td>\n",
       "    </tr>\n",
       "    <tr>\n",
       "      <th>2</th>\n",
       "      <td>764c75f661154dac3a6c254cd082ea7d</td>\n",
       "      <td>foosdfpfkusacimwkcsosbicdxkicaua</td>\n",
       "      <td>544</td>\n",
       "      <td>0</td>\n",
       "      <td>0</td>\n",
       "      <td>2010-04-16</td>\n",
       "      <td>2016-04-16</td>\n",
       "      <td>2010-04-16</td>\n",
       "      <td>2015-04-17</td>\n",
       "      <td>47.96</td>\n",
       "      <td>...</td>\n",
       "      <td>0.000000</td>\n",
       "      <td>0.000004</td>\n",
       "      <td>9.450150e-08</td>\n",
       "      <td>0.000000e+00</td>\n",
       "      <td>0</td>\n",
       "      <td>4</td>\n",
       "      <td>4</td>\n",
       "      <td>5486</td>\n",
       "      <td>3294</td>\n",
       "      <td>2192</td>\n",
       "    </tr>\n",
       "    <tr>\n",
       "      <th>3</th>\n",
       "      <td>bba03439a292a1e166f80264c16191cb</td>\n",
       "      <td>lmkebamcaaclubfxadlmueccxoimlema</td>\n",
       "      <td>1584</td>\n",
       "      <td>0</td>\n",
       "      <td>0</td>\n",
       "      <td>2010-03-30</td>\n",
       "      <td>2016-03-30</td>\n",
       "      <td>2010-03-30</td>\n",
       "      <td>2015-03-31</td>\n",
       "      <td>240.04</td>\n",
       "      <td>...</td>\n",
       "      <td>0.000000</td>\n",
       "      <td>0.000003</td>\n",
       "      <td>0.000000e+00</td>\n",
       "      <td>0.000000e+00</td>\n",
       "      <td>0</td>\n",
       "      <td>3</td>\n",
       "      <td>1</td>\n",
       "      <td>5503</td>\n",
       "      <td>3311</td>\n",
       "      <td>2192</td>\n",
       "    </tr>\n",
       "    <tr>\n",
       "      <th>4</th>\n",
       "      <td>149d57cf92fc41cf94415803a877cb4b</td>\n",
       "      <td>MISSING</td>\n",
       "      <td>4425</td>\n",
       "      <td>0</td>\n",
       "      <td>526</td>\n",
       "      <td>2010-01-13</td>\n",
       "      <td>2016-03-07</td>\n",
       "      <td>2010-01-13</td>\n",
       "      <td>2015-03-09</td>\n",
       "      <td>445.75</td>\n",
       "      <td>...</td>\n",
       "      <td>0.000000</td>\n",
       "      <td>0.000011</td>\n",
       "      <td>2.896760e-06</td>\n",
       "      <td>4.860000e-10</td>\n",
       "      <td>0</td>\n",
       "      <td>1</td>\n",
       "      <td>2</td>\n",
       "      <td>5579</td>\n",
       "      <td>3334</td>\n",
       "      <td>2245</td>\n",
       "    </tr>\n",
       "  </tbody>\n",
       "</table>\n",
       "<p>5 rows × 49 columns</p>\n",
       "</div>"
      ],
      "text/plain": [
       "                                 id                     channel_sales  \\\n",
       "0  24011ae4ebbe3035111d65fa7c15bc57  foosdfpfkusacimwkcsosbicdxkicaua   \n",
       "1  d29c2c54acc38ff3c0614d0a653813dd                           MISSING   \n",
       "2  764c75f661154dac3a6c254cd082ea7d  foosdfpfkusacimwkcsosbicdxkicaua   \n",
       "3  bba03439a292a1e166f80264c16191cb  lmkebamcaaclubfxadlmueccxoimlema   \n",
       "4  149d57cf92fc41cf94415803a877cb4b                           MISSING   \n",
       "\n",
       "   cons_12m  cons_gas_12m  cons_last_month date_activ   date_end  \\\n",
       "0         0         54946                0 2013-06-15 2016-06-15   \n",
       "1      4660             0                0 2009-08-21 2016-08-30   \n",
       "2       544             0                0 2010-04-16 2016-04-16   \n",
       "3      1584             0                0 2010-03-30 2016-03-30   \n",
       "4      4425             0              526 2010-01-13 2016-03-07   \n",
       "\n",
       "  date_modif_prod date_renewal  forecast_cons_12m  ...  \\\n",
       "0      2015-11-01   2015-06-23               0.00  ...   \n",
       "1      2009-08-21   2015-08-31             189.95  ...   \n",
       "2      2010-04-16   2015-04-17              47.96  ...   \n",
       "3      2010-03-30   2015-03-31             240.04  ...   \n",
       "4      2010-01-13   2015-03-09             445.75  ...   \n",
       "\n",
       "   var_6m_price_mid_peak_fix  var_6m_price_off_peak  var_6m_price_peak  \\\n",
       "0                  44.235794               2.086425       9.953056e+01   \n",
       "1                   0.000000               0.009485       1.217891e-03   \n",
       "2                   0.000000               0.000004       9.450150e-08   \n",
       "3                   0.000000               0.000003       0.000000e+00   \n",
       "4                   0.000000               0.000011       2.896760e-06   \n",
       "\n",
       "   var_6m_price_mid_peak  churn  activ_month active_weekday  \\\n",
       "0           4.423670e+01      1            6              5   \n",
       "1           0.000000e+00      0            8              4   \n",
       "2           0.000000e+00      0            4              4   \n",
       "3           0.000000e+00      0            3              1   \n",
       "4           4.860000e-10      0            1              2   \n",
       "\n",
       "   days_since_active  days_since_last_login  account_duration  \n",
       "0               4330                   3234              1096  \n",
       "1               5724                   3158              2566  \n",
       "2               5486                   3294              2192  \n",
       "3               5503                   3311              2192  \n",
       "4               5579                   3334              2245  \n",
       "\n",
       "[5 rows x 49 columns]"
      ]
     },
     "execution_count": 43,
     "metadata": {},
     "output_type": "execute_result"
    }
   ],
   "source": [
    "df.head()"
   ]
  },
  {
   "cell_type": "code",
   "execution_count": null,
   "id": "77200e41-4de3-4c83-8996-50cee3727ff2",
   "metadata": {},
   "outputs": [],
   "source": []
  }
 ],
 "metadata": {
  "kernelspec": {
   "display_name": "Python 3 (ipykernel)",
   "language": "python",
   "name": "python3"
  },
  "language_info": {
   "codemirror_mode": {
    "name": "ipython",
    "version": 3
   },
   "file_extension": ".py",
   "mimetype": "text/x-python",
   "name": "python",
   "nbconvert_exporter": "python",
   "pygments_lexer": "ipython3",
   "version": "3.12.4"
  }
 },
 "nbformat": 4,
 "nbformat_minor": 5
}
